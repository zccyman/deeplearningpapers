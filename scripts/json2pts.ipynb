{
 "cells": [
  {
   "cell_type": "code",
   "execution_count": 48,
   "metadata": {},
   "outputs": [],
   "source": [
    "import cv2\n",
    "import json\n",
    "import os\n",
    "import numpy as np\n",
    "\n",
    "from shutil import copyfile"
   ]
  },
  {
   "cell_type": "code",
   "execution_count": 49,
   "metadata": {},
   "outputs": [],
   "source": [
    "root_dir=r\"C:\\Users\\108890\\Desktop\\mta\\done\"\n",
    "save_dir=r\"C:\\Users\\108890\\Desktop\\mta\\tmp\"\n",
    "\n",
    "postfix=\".json\"\n",
    "image_postfix=\".jpg\"\n",
    "\n",
    "#水平边上点的个数\n",
    "horizon_keypoint_num = 25\n",
    "\n",
    "#垂直边上点的个数\n",
    "vertical_keypoint_num = 15"
   ]
  },
  {
   "cell_type": "code",
   "execution_count": 50,
   "metadata": {},
   "outputs": [],
   "source": [
    "def __get_files_recursive(fd, suffix=None):\n",
    "    fs, ds = [], []\n",
    "    for root, dirs, files in os.walk(fd):\n",
    "        for name in files:\n",
    "            if suffix is None:\n",
    "                fs.append(os.path.join(root, name))\n",
    "            else:\n",
    "                if name.endswith(suffix):\n",
    "                    fs.append(os.path.join(root, name))\n",
    "    return fs"
   ]
  },
  {
   "cell_type": "code",
   "execution_count": 51,
   "metadata": {},
   "outputs": [],
   "source": [
    "def write_pts(pts, dst):\n",
    "    with open(dst, 'w') as f:\n",
    "        f.write(\"version:1\\n\")\n",
    "        # TODO: change 56 to the number of points you want\n",
    "        f.write(\"n_points :{}\\n\".format(len(pts)))\n",
    "        f.write(\"{ \\n\")\n",
    "        for x, y in pts:\n",
    "            f.write(\"{} {}\\n\".format(x, y))\n",
    "        f.write(\"} \\n\")\n",
    "        f.write(\" \")"
   ]
  },
  {
   "cell_type": "code",
   "execution_count": 52,
   "metadata": {},
   "outputs": [],
   "source": [
    "def run(root_dir, postfix, image_postfix, horizon_keypoint_num, vertical_keypoint_num, save_dir=None):\n",
    "\n",
    "    horizon_keypoint_num = horizon_keypoint_num - 1\n",
    "    vertical_keypoint_num = vertical_keypoint_num - 1\n",
    "    \n",
    "    json_list = __get_files_recursive(root_dir, postfix)#[i for i in os.listdir(root_dir) if '.json' in i]\n",
    "    for json_path in json_list:\n",
    "        try:\n",
    "            with open(json_path, 'r') as f:\n",
    "                line = []\n",
    "                data = json.load(f)\n",
    "                points = data['shapes'][0]['points']\n",
    "                \n",
    "                img = data['imagePath']\n",
    "                mx = 0\n",
    "                my = 0\n",
    "                for pt in points:\n",
    "                    x, y = pt\n",
    "                    mx = mx + int(x)\n",
    "                    my = my + int(y)\n",
    "                    line.append([int(x), int(y)])\n",
    "                mx = mx / 4\n",
    "                my = my / 4\n",
    "                for pt in points:\n",
    "                    x, y = pt\n",
    "                    if int(x) < mx and int(y) < my:\n",
    "                        line[0] = [int(x), int(y)]\n",
    "                    elif int(x) < mx and int(y) > my:\n",
    "                        line[3] = [int(x), int(y)]\n",
    "                    elif int(x) > mx and int(y) < my:\n",
    "                        line[1] = [int(x), int(y)]\n",
    "                    elif int(x) > mx and int(y) > my:\n",
    "                        line[2] = [int(x), int(y)]\n",
    "                line.append(line[0])\n",
    "            pts = []\n",
    "            if False: # kp_numbers_cfg['cnt'] == 4:\n",
    "                for x, y in line:\n",
    "                    pts.append(x, y)\n",
    "            else:\n",
    "                for i in range(len(line) - 1):\n",
    "                    # TODO: 20 is horizontal numbers, 10 is vertical numbers  #kp_numbers_cfg['edge1'] horizon\n",
    "                    delta = horizon_keypoint_num + 1 if i % 2 == 0 else vertical_keypoint_num + 1\n",
    "                    if i == 0:\n",
    "                        startx, starty = line[i - 2]\n",
    "                    else:\n",
    "                        startx, starty = line[i - 1]\n",
    "                    startx, starty = line[i]\n",
    "                    endx, endy = line[i+1]\n",
    "                    dx = int((endx - startx) / delta)\n",
    "                    dy = int((endy - starty) / delta)\n",
    "                    pts.append(points[i])\n",
    "                    for i in range(1, delta): #0\n",
    "                        tx = startx + i * dx\n",
    "                        ty = starty + i * dy\n",
    "                        pts.append([int(tx), int(ty)])\n",
    "                        #print([int(tx), int(ty)])\n",
    "            if save_dir is None:\n",
    "                write_pts(pts, json_path.replace(postfix, '.pts'))\n",
    "            else:\n",
    "                json_name = os.path.basename(json_path)\n",
    "                write_pts(pts, os.path.join(save_dir, json_name.replace(postfix, '.pts')))\n",
    "                copyfile(json_path.replace(postfix, image_postfix), os.path.join(save_dir, json_name.replace(postfix, image_postfix)))\n",
    "        except:\n",
    "            print(json_name)"
   ]
  },
  {
   "cell_type": "code",
   "execution_count": 57,
   "metadata": {},
   "outputs": [
    {
     "name": "stdout",
     "output_type": "stream",
     "text": [
      "start ...\n",
      "finish ...\n"
     ]
    }
   ],
   "source": [
    "if __name__ == '__main__':\n",
    "    print(\"start ...\")\n",
    "    run(root_dir, postfix, image_postfix, horizon_keypoint_num, vertical_keypoint_num, save_dir=None)\n",
    "    print(\"finish ...\")"
   ]
  },
  {
   "cell_type": "code",
   "execution_count": null,
   "metadata": {},
   "outputs": [],
   "source": []
  },
  {
   "cell_type": "code",
   "execution_count": null,
   "metadata": {},
   "outputs": [],
   "source": []
  },
  {
   "cell_type": "code",
   "execution_count": null,
   "metadata": {},
   "outputs": [],
   "source": []
  }
 ],
 "metadata": {
  "kernelspec": {
   "display_name": "Python 3",
   "language": "python",
   "name": "python3"
  },
  "language_info": {
   "codemirror_mode": {
    "name": "ipython",
    "version": 3
   },
   "file_extension": ".py",
   "mimetype": "text/x-python",
   "name": "python",
   "nbconvert_exporter": "python",
   "pygments_lexer": "ipython3",
   "version": "3.7.3"
  }
 },
 "nbformat": 4,
 "nbformat_minor": 2
}
